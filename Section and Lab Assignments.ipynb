{
 "cells": [
  {
   "cell_type": "code",
   "execution_count": null,
   "metadata": {},
   "outputs": [],
   "source": [
    "import pandas as pd\n",
    "import numpy as np\n",
    "import scipy.optimize as opt\n",
    "from scipy.sparse import lil_matrix\n",
    "import matplotlib.pyplot as plt\n",
    "import seaborn as sns"
   ]
  },
  {
   "cell_type": "markdown",
   "metadata": {},
   "source": [
    "# Importing and Cleaning Data"
   ]
  },
  {
   "cell_type": "markdown",
   "metadata": {},
   "source": [
    "## Loading and Cleaning the Preferences"
   ]
  },
  {
   "cell_type": "code",
   "execution_count": null,
   "metadata": {},
   "outputs": [],
   "source": [
    "prefs_form = pd.read_csv(\"final_prefs2.csv\") # from Google Forms\n",
    "# All the columns in the preferences table have the workd \"preferences\" in them\n",
    "lab_cols = [c for c in prefs_form.columns if \"preferences for lab\" in c.lower()]\n",
    "disc_cols = [c for c in prefs_form.columns if \"discussion\" in c.lower()]\n",
    "util_map = {\n",
    "    \"Cannot make this time.\": 0.,\n",
    "    \"Least Preferred\": 1.,\n",
    "    \"Moderately Preferred\": 2.,\n",
    "    \"Strongly Preferred\": 3.,\n",
    "    \"Strong Preferred\": 3. #oops typo in form.\n",
    "}\n",
    "# Convert strings to utility scores\n",
    "prefs_form[lab_cols] = prefs_form[lab_cols].replace(util_map)\n",
    "prefs_form[disc_cols] = prefs_form[disc_cols].replace(util_map)\n",
    "prefs_form.shape\n",
    "prefs_form = prefs_form.set_index(\"Email Address\")"
   ]
  },
  {
   "cell_type": "markdown",
   "metadata": {},
   "source": [
    "## Loading the Roster"
   ]
  },
  {
   "cell_type": "code",
   "execution_count": null,
   "metadata": {},
   "outputs": [],
   "source": [
    "roster = pd.read_csv(\"final_roster.csv\") # from cal central or bcourses\n",
    "roster = roster.set_index(\"Email Address\")\n",
    "roster.shape"
   ]
  },
  {
   "cell_type": "code",
   "execution_count": null,
   "metadata": {},
   "outputs": [],
   "source": [
    "roster[\"Sections\"].value_counts()"
   ]
  },
  {
   "cell_type": "code",
   "execution_count": null,
   "metadata": {},
   "outputs": [],
   "source": [
    "# see how many enrolled and waitlisted students\n",
    "roster[\"Role\"].value_counts()"
   ]
  },
  {
   "cell_type": "code",
   "execution_count": null,
   "metadata": {},
   "outputs": [],
   "source": [
    "# only get enrolled students\n",
    "enrolled_roster = roster[roster[\"Role\"] == \"Student\"]"
   ]
  },
  {
   "cell_type": "code",
   "execution_count": null,
   "metadata": {},
   "outputs": [],
   "source": [
    "# left join roster with preferences to only get students who filled out form and are on the roster\n",
    "enrolled_prefs = enrolled_roster.join(prefs_form, how=\"left\")\n",
    "enrolled_prefs[lab_cols + disc_cols] = enrolled_prefs[lab_cols + disc_cols].fillna(3)"
   ]
  },
  {
   "cell_type": "code",
   "execution_count": null,
   "metadata": {},
   "outputs": [],
   "source": [
    "enrolled_prefs.shape"
   ]
  },
  {
   "cell_type": "code",
   "execution_count": null,
   "metadata": {},
   "outputs": [],
   "source": [
    "lab_prefs = enrolled_prefs[lab_cols]\n",
    "disc_prefs = enrolled_prefs[disc_cols]"
   ]
  },
  {
   "cell_type": "code",
   "execution_count": null,
   "metadata": {},
   "outputs": [],
   "source": [
    "# Print dimensions\n",
    "(n_students, n_labs) = lab_prefs.shape\n",
    "(n_students, n_discussions) = disc_prefs.shape\n",
    "print(\"Number of Students:\", n_students)\n",
    "print(\"Number of Labs Times:\", n_labs)\n",
    "print(\"Number of Discussion Slots:\", n_discussions)"
   ]
  },
  {
   "cell_type": "code",
   "execution_count": null,
   "metadata": {},
   "outputs": [],
   "source": [
    "# View the discussion time/location slots\n",
    "disc_cols"
   ]
  },
  {
   "cell_type": "code",
   "execution_count": null,
   "metadata": {},
   "outputs": [],
   "source": [
    "# View the lab time slots\n",
    "lab_cols"
   ]
  },
  {
   "cell_type": "markdown",
   "metadata": {},
   "source": [
    "# Setting The Section and Lab Sizes\n",
    "\n",
    "This needs to be updated to reflect actual capacity or remaining capacity"
   ]
  },
  {
   "cell_type": "code",
   "execution_count": null,
   "metadata": {},
   "outputs": [],
   "source": [
    "disc_room_size = 35\n",
    "disc_ids = np.array([[101], [102, 129], [103], [104], [126, 127], [110], [122, 123], [121], [107], \n",
    "                     [108, 109], [111], [105, 112], [113], [131], [132], [114], [], [115, 135], \n",
    "                     [133], [134], [116], [117, 136, 138], [137], [118], [119, 139, 140], [120], \n",
    "                     [141], [130], [128], [124, 125]])\n",
    "disc_capacity = np.array([disc_room_size * np.ones(len(d)) for d in disc_ids])\n",
    "disc_slot_capacity = np.array([np.sum(s) for s in disc_capacity])\n"
   ]
  },
  {
   "cell_type": "code",
   "execution_count": null,
   "metadata": {},
   "outputs": [],
   "source": [
    "lab_room_size = 35\n",
    "lab_ids = np.array([[107, 108, 109, 110], [111, 112, 113, 114], [115, 116, 117, 118], [119, 120, 121, 122], \n",
    "                   [123, 124, 125, 126], [127, 128, 101, 102], [133], [134], [135, 136, 137, 138], \n",
    "                   [132, 129], [104, 103, 130], [106, 105, 131], []])\n",
    "lab_capacity = np.array([lab_room_size * np.ones(len(d)) for d in lab_ids])\n",
    "lab_slot_capacity = np.array([np.sum(s) for s in lab_capacity])"
   ]
  },
  {
   "cell_type": "markdown",
   "metadata": {},
   "source": [
    "# Optimizing the Assignments"
   ]
  },
  {
   "cell_type": "code",
   "execution_count": null,
   "metadata": {},
   "outputs": [],
   "source": [
    "def run_lp(prefs, cap, fuzzing=1.0e-5):\n",
    "    \"\"\"\n",
    "    This function returns the optimal section assignments\n",
    "    \n",
    "    prefs is an n_students by n_sections matrix of utility values. Larger values are better.\n",
    "    cap is an n_sections vector of section sizes.\n",
    "    \"\"\"\n",
    "    \n",
    "    (n,d) = prefs.shape\n",
    "    \n",
    "    # The optimizer MINIMIZES the sum of the weights.\n",
    "    w = -prefs.flatten() # prefs is in row major form. \n",
    "\n",
    "    ### This is a bit of a hack but the problem is not well conditioned \n",
    "    ### so by adding a small amount of noise we ensure a single solution.\n",
    "    \n",
    "    w += fuzzing * np.random.randn(len(w)) \n",
    "    \n",
    "    # The equality constraints enforces that every student is in one section\n",
    "    # Each row in Aeq is the constrain for a single student\n",
    "    \n",
    "    Aeq = lil_matrix((n, n*d))\n",
    "    for i in range(n):\n",
    "        Aeq[i,(i*d):((i+1)*d)] = 1.\n",
    "    Aeq = Aeq.asformat(\"csr\")\n",
    "    # Note we will also add a 0 < x < 1 constraint in the bounds arg to linprog\n",
    "    \n",
    "    # The inequality constraint ensures that no room has too many students\n",
    "    Aub = lil_matrix((d, n*d))\n",
    "    for i in range(d):\n",
    "        tmp = np.zeros((n,d))\n",
    "        tmp[:,i] = 1.\n",
    "        Aub[i,:] = tmp.flatten()\n",
    "    Aub = Aub.asformat(\"csr\")\n",
    "    \n",
    "    options = dict(\n",
    "        sparse=True, # Treat the constraint matrices as sparse\n",
    "#         maxiter=100000,\n",
    "#         tol=1.0e-10,\n",
    "        disp=False)\n",
    "    res = opt.linprog(w, Aub, cap, Aeq, np.ones(n), bounds = (0,1), options=options)\n",
    "    return res\n",
    "\n",
    "def compute_assignments(prefs, cap, unhappy = 0.0):\n",
    "    \"\"\"\n",
    "    Compute the section assignments from the output of the optimization.\n",
    "    prefs: pandas dataframes of section preferences used for the optimization\n",
    "    cap: a numpy array of the section sizes\n",
    "    \"\"\"\n",
    "    soln = run_lp(prefs.to_numpy(), cap)\n",
    "    (n,d) = prefs.shape\n",
    "    rounded_x = np.round(soln.x.reshape(n,d)) # Rounding the solution\n",
    "    print(\"Over Capacity:\", np.sum(rounded_x.sum(axis=0) > cap))\n",
    "    print(\"Unassigned:\", np.sum(rounded_x.sum(axis=1) != 1.))\n",
    "    result = pd.DataFrame(\n",
    "        {\"Assignment\": np.nonzero(rounded_x)[1], \n",
    "         \"Happiness\": prefs.to_numpy().flatten()[rounded_x.flatten() == 1.]}, \n",
    "        index=prefs.index)\n",
    "    print(\"Unhappy Students:\", np.sum(result['Happiness'] == 0))\n",
    "    return result"
   ]
  },
  {
   "cell_type": "code",
   "execution_count": null,
   "metadata": {},
   "outputs": [],
   "source": [
    "# Set random seed to get the same assignments\n",
    "np.random.seed(4)\n",
    "\n",
    "# Run LP to assign students to a time slot for lab\n",
    "lab_opt = compute_assignments(lab_prefs, lab_slot_capacity)"
   ]
  },
  {
   "cell_type": "code",
   "execution_count": null,
   "metadata": {},
   "outputs": [],
   "source": [
    "# Set random seed to get the same assignments\n",
    "np.random.seed(4)\n",
    "\n",
    "# Run LP to assign students to a time slot for lab\n",
    "disc_opt = compute_assignments(disc_prefs, disc_slot_capacity)"
   ]
  },
  {
   "cell_type": "markdown",
   "metadata": {},
   "source": [
    "# Analyze Assignments"
   ]
  },
  {
   "cell_type": "markdown",
   "metadata": {},
   "source": [
    "List students which have a non-satisfiable assignment"
   ]
  },
  {
   "cell_type": "code",
   "execution_count": null,
   "metadata": {},
   "outputs": [],
   "source": [
    "# View unhappy lab students\n",
    "roster.loc[lab_opt[lab_opt[\"Happiness\"] == 0].index, :]"
   ]
  },
  {
   "cell_type": "code",
   "execution_count": null,
   "metadata": {},
   "outputs": [],
   "source": [
    "# View unhappy discussion students\n",
    "roster.loc[disc_opt[disc_opt[\"Happiness\"] == 0].index, :]"
   ]
  },
  {
   "cell_type": "markdown",
   "metadata": {},
   "source": [
    "# Visualize Assignments"
   ]
  },
  {
   "cell_type": "code",
   "execution_count": null,
   "metadata": {},
   "outputs": [],
   "source": [
    "# Plot distribution of happiness for lab\n",
    "plt.figure(figsize=(10., 4.))\n",
    "plt.subplot(1,2,1)\n",
    "lab_opt[\"Happiness\"].value_counts().sort_index().plot(kind=\"bar\")\n",
    "plt.title(\"Lab Happiness\")\n",
    "plt.ylabel(\"Number of Students\")\n",
    "plt.xlabel(\"Lab Happiness Score\")\n",
    "plt.subplot(1,2,2)\n",
    "# Plot distribution of happiness for discussion\n",
    "disc_opt[\"Happiness\"].value_counts().sort_index().plot(kind=\"bar\")\n",
    "plt.title(\"Discussion Happiness\")\n",
    "plt.xlabel(\"Disc Happiness Score\")\n",
    "plt.savefig(\"enrolled_happiness.png\")"
   ]
  },
  {
   "cell_type": "markdown",
   "metadata": {},
   "source": [
    "# Assign Students to Physical Discussions"
   ]
  },
  {
   "cell_type": "code",
   "execution_count": null,
   "metadata": {},
   "outputs": [],
   "source": [
    "def assign_rooms(opt, room_capacity, room_names):\n",
    "    opt = opt.copy()\n",
    "    room_capacity = np.array([c.copy() for c in room_capacity]) # deep copy\n",
    "    opt[\"Room Name\"] = 0\n",
    "    for (label, row) in opt.iterrows():\n",
    "        slot = int(row[\"Assignment\"]);\n",
    "        room_id = np.argmax(room_capacity[slot])\n",
    "        room_capacity[slot][room_id] -= 1\n",
    "        opt.loc[label, \"Room Name\"] = room_names[slot][room_id]\n",
    "    return (opt, room_capacity)"
   ]
  },
  {
   "cell_type": "code",
   "execution_count": null,
   "metadata": {},
   "outputs": [],
   "source": [
    "(disc_opt, disc_capacity_remaining) = assign_rooms(disc_opt, disc_capacity, disc_ids)\n",
    "(lab_opt, lab_capacity_remaining) = assign_rooms(lab_opt, lab_capacity, lab_ids)"
   ]
  },
  {
   "cell_type": "code",
   "execution_count": null,
   "metadata": {},
   "outputs": [],
   "source": [
    "roster.loc[disc_opt.index, \"Disc. Room\"] = disc_opt[\"Room Name\"]\n",
    "roster.loc[disc_opt.index, \"Disc. Happiness\"] = disc_opt[\"Happiness\"]\n",
    "roster.loc[lab_opt.index, \"Lab Room\"] = lab_opt[\"Room Name\"]\n",
    "roster.loc[lab_opt.index, \"Lab Happiness\"] = lab_opt[\"Happiness\"]"
   ]
  },
  {
   "cell_type": "markdown",
   "metadata": {},
   "source": [
    "# Matching Waitlisted Students"
   ]
  },
  {
   "cell_type": "code",
   "execution_count": null,
   "metadata": {},
   "outputs": [],
   "source": [
    "# only get waitlisted students\n",
    "waitlisted_roster = roster[roster[\"Role\"] == \"Waitlist Student\"]"
   ]
  },
  {
   "cell_type": "code",
   "execution_count": null,
   "metadata": {},
   "outputs": [],
   "source": [
    "# inner join roster with preferences to only get students who filled out form and are on the roster\n",
    "waitlisted_prefs = waitlisted_roster.join(prefs_form, how=\"left\")\n",
    "waitlisted_prefs[lab_cols + disc_cols] = waitlisted_prefs[lab_cols + disc_cols].fillna(3)\n",
    "waitlisted_lab_prefs = waitlisted_prefs[lab_cols]\n",
    "waitlisted_disc_prefs = waitlisted_prefs[disc_cols]"
   ]
  },
  {
   "cell_type": "code",
   "execution_count": null,
   "metadata": {},
   "outputs": [],
   "source": [
    "# Set random seed to get the same assignments\n",
    "np.random.seed(4)\n",
    "lab_room_padding = 3\n",
    "\n",
    "lab_capacity_remaining_padded = np.array([\n",
    "    c + lab_room_padding for c in lab_capacity_remaining])\n",
    "lab_slot_capacity_reamining = np.array([np.sum(c) for c in lab_capacity_remaining_padded])\n",
    "\n",
    "waitlisted_lab_opt = compute_assignments(waitlisted_lab_prefs, lab_slot_capacity_reamining)"
   ]
  },
  {
   "cell_type": "code",
   "execution_count": null,
   "metadata": {},
   "outputs": [],
   "source": [
    "# Set random seed to get the same assignments\n",
    "np.random.seed(4)\n",
    "disc_room_padding = 3\n",
    "\n",
    "disc_capacity_remaining_padded = np.array([\n",
    "    c + disc_room_padding for c in disc_capacity_remaining])\n",
    "disc_slot_capacity_reamining = np.array([np.sum(c) for c in disc_capacity_remaining_padded])\n",
    "\n",
    "waitlisted_disc_opt = compute_assignments(waitlisted_disc_prefs, disc_slot_capacity_reamining)"
   ]
  },
  {
   "cell_type": "code",
   "execution_count": null,
   "metadata": {},
   "outputs": [],
   "source": [
    "roster.loc[waitlisted_lab_opt[waitlisted_lab_opt[\"Happiness\"] == 0].index, :]"
   ]
  },
  {
   "cell_type": "code",
   "execution_count": null,
   "metadata": {},
   "outputs": [],
   "source": [
    "roster.loc[waitlisted_disc_opt[waitlisted_disc_opt[\"Happiness\"] == 0].index, :]"
   ]
  },
  {
   "cell_type": "code",
   "execution_count": null,
   "metadata": {},
   "outputs": [],
   "source": [
    "(waitlisted_disc_opt, disc_capacity_remaining_final) = assign_rooms(waitlisted_disc_opt, disc_capacity_remaining_padded, disc_ids)\n",
    "(waitlisted_lab_opt, lab_capacity_remaining_final) = assign_rooms(waitlisted_lab_opt, lab_capacity_remaining_padded, lab_ids)"
   ]
  },
  {
   "cell_type": "code",
   "execution_count": null,
   "metadata": {},
   "outputs": [],
   "source": [
    "roster.loc[waitlisted_disc_opt.index, \"Disc. Room\"] = waitlisted_disc_opt[\"Room Name\"]\n",
    "roster.loc[waitlisted_disc_opt.index, \"Disc. Happiness\"] = waitlisted_disc_opt[\"Happiness\"]\n",
    "roster.loc[waitlisted_lab_opt.index, \"Lab Room\"] = waitlisted_lab_opt[\"Room Name\"]\n",
    "roster.loc[waitlisted_lab_opt.index, \"Lab Happiness\"] = waitlisted_lab_opt[\"Happiness\"]"
   ]
  },
  {
   "cell_type": "code",
   "execution_count": null,
   "metadata": {},
   "outputs": [],
   "source": [
    "# Plot distribution of happiness for lab\n",
    "plt.figure(figsize=(10., 4.))\n",
    "plt.subplot(1,2,1)\n",
    "roster[\"Lab Happiness\"].value_counts().sort_index().plot(kind=\"bar\")\n",
    "plt.title(\"Lab Happiness\")\n",
    "plt.ylabel(\"Number of Students\")\n",
    "plt.xlabel(\"Lab Happiness Score\")\n",
    "plt.subplot(1,2,2)\n",
    "# Plot distribution of happiness for discussion\n",
    "roster[\"Disc. Happiness\"].value_counts().sort_index().plot(kind=\"bar\")\n",
    "plt.title(\"Discussion Happiness\")\n",
    "plt.xlabel(\"Disc Happiness Score\")\n",
    "plt.savefig(\"overall_happiness.png\")"
   ]
  },
  {
   "cell_type": "code",
   "execution_count": null,
   "metadata": {},
   "outputs": [],
   "source": [
    "roster.columns"
   ]
  },
  {
   "cell_type": "code",
   "execution_count": null,
   "metadata": {},
   "outputs": [],
   "source": [
    "columns_needed = [\"Name\", \"Role\", \"Lab Room\", \"Disc. Room\", \"Lab Happiness\", \"Disc. Happiness\"]\n",
    "(\n",
    "    roster[columns_needed].drop(columns = [\"Disc. Room\"])\n",
    "        .sort_values([\"Lab Room\", \"Role\", \"Name\"])\n",
    "        .to_csv(\"LabAssignments.csv\")\n",
    ")\n",
    "(\n",
    "    roster[columns_needed].drop(columns = [\"Lab Room\"])\n",
    "        .sort_values([\"Disc. Room\", \"Role\", \"Name\"])\n",
    "        .to_csv(\"DiscussionAssignments.csv\")\n",
    ")"
   ]
  }
 ],
 "metadata": {
  "anaconda-cloud": {},
  "kernelspec": {
   "display_name": "Python 3",
   "language": "python",
   "name": "python3"
  },
  "language_info": {
   "codemirror_mode": {
    "name": "ipython",
    "version": 3
   },
   "file_extension": ".py",
   "mimetype": "text/x-python",
   "name": "python",
   "nbconvert_exporter": "python",
   "pygments_lexer": "ipython3",
   "version": "3.7.5"
  },
  "toc": {
   "colors": {
    "hover_highlight": "#DAA520",
    "navigate_num": "#000000",
    "navigate_text": "#333333",
    "running_highlight": "#FF0000",
    "selected_highlight": "#FFD700",
    "sidebar_border": "#EEEEEE",
    "wrapper_background": "#FFFFFF"
   },
   "moveMenuLeft": true,
   "nav_menu": {
    "height": "12px",
    "width": "252px"
   },
   "navigate_menu": true,
   "number_sections": true,
   "sideBar": true,
   "threshold": 4,
   "toc_cell": false,
   "toc_section_display": "block",
   "toc_window_display": false,
   "widenNotebook": false
  }
 },
 "nbformat": 4,
 "nbformat_minor": 4
}
